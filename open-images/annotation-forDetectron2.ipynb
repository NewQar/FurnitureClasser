{
  "nbformat": 4,
  "nbformat_minor": 0,
  "metadata": {
    "colab": {
      "name": "all-final-annotation-finalized-github-upload.ipynb",
      "provenance": [],
      "collapsed_sections": []
    },
    "kernelspec": {
      "name": "python3",
      "display_name": "Python 3"
    },
    "accelerator": "GPU"
  },
  "cells": [
    {
      "cell_type": "code",
      "metadata": {
        "id": "1n5FZn8AJblo"
      },
      "source": [
        "# install dependencies: (use cu100 because colab is on CUDA 10.0)\n",
        "!pip install -U torch==1.4+cu100 torchvision==0.5+cu100 -f https://download.pytorch.org/whl/torch_stable.html \n",
        "!pip install cython pyyaml==5.1\n",
        "!pip install -U 'git+https://github.com/cocodataset/cocoapi.git#subdirectory=PythonAPI'\n",
        "\n",
        "# install detectron2:\n",
        "!pip install detectron2 -f https://dl.fbaipublicfiles.com/detectron2/wheels/cu100/index.html\n",
        "\n",
        "# WandB - Install the W&B library\n",
        "!pip install wandb -q\n",
        "\n",
        "# Need awscli to download images from AWS (labels come from GCP)\n",
        "!pip install awscli\n",
        "\n",
        "print(\"#### Versions: ####\")\n",
        "import torch, torchvision\n",
        "torch.__version__\n",
        "!gcc --version\n",
        "# opencv is pre-installed on colab"
      ],
      "execution_count": null,
      "outputs": []
    },
    {
      "cell_type": "code",
      "metadata": {
        "id": "I1Qd6LR0Jky-"
      },
      "source": [
        "import logging\n",
        "import os\n",
        "import argparse\n",
        "from collections import OrderedDict\n",
        "import pandas as pd\n",
        "import numpy as np\n",
        "import torch\n",
        "from torch.nn.parallel import DistributedDataParallel\n",
        "\n",
        "import detectron2.utils.comm as comm\n",
        "from detectron2.checkpoint import DetectionCheckpointer, PeriodicCheckpointer\n",
        "from detectron2 import model_zoo\n",
        "from detectron2.config import get_cfg\n",
        "from detectron2.data import (\n",
        "    MetadataCatalog,\n",
        "    build_detection_test_loader,\n",
        "    build_detection_train_loader,\n",
        ")\n",
        "from detectron2.engine import default_argument_parser, default_setup, launch\n",
        "from detectron2.evaluation import ( ### Changes from original, I don't need all the different evaluators\n",
        "    COCOEvaluator,\n",
        "    DatasetEvaluators,\n",
        "    inference_on_dataset,\n",
        "    print_csv_format\n",
        ")\n",
        "from detectron2.modeling import build_model\n",
        "from detectron2.solver import build_lr_scheduler, build_optimizer\n",
        "# Not sure what these do but they may help to track experiments\n",
        "from detectron2.utils.events import (\n",
        "    CommonMetricPrinter,\n",
        "    EventStorage,\n",
        "    JSONWriter,\n",
        "    TensorboardXWriter\n",
        ")\n",
        "\n",
        "from detectron2.utils.visualizer import Visualizer\n",
        "\n",
        "# Setup logger\n",
        "logger = logging.getLogger(\"detectron2\")"
      ],
      "execution_count": null,
      "outputs": []
    },
    {
      "cell_type": "code",
      "metadata": {
        "id": "aRLl_uqAEPlJ"
      },
      "source": [
        "# Download all images for train & test & validation\n",
        "!python3 downloadOI.py --classes 'Bed, Cabinetry, Chair, Couch, Lamp, Table' --dataset train, validation, test"
      ],
      "execution_count": null,
      "outputs": []
    },
    {
      "cell_type": "code",
      "metadata": {
        "colab": {
          "base_uri": "https://localhost:8080/"
        },
        "id": "fLSuOZ1RKXOv",
        "outputId": "bcb10f75-900a-4530-be55-8917190eab6b"
      },
      "source": [
        "from google.colab import drive\n",
        "drive.mount('/content/drive')"
      ],
      "execution_count": null,
      "outputs": [
        {
          "output_type": "stream",
          "text": [
            "Mounted at /content/drive\n"
          ],
          "name": "stdout"
        }
      ]
    },
    {
      "cell_type": "code",
      "metadata": {
        "colab": {
          "base_uri": "https://localhost:8080/"
        },
        "id": "RRDnyYzKKavC",
        "outputId": "0b37c77c-ef26-4e9d-8e93-42121de86fd5"
      },
      "source": [
        "target_classes = ['Chair', 'Cabinetry', 'Couch', 'Bed', 'Table', 'Lamp']\n",
        "target_classes.sort()\n",
        "target_classes"
      ],
      "execution_count": null,
      "outputs": [
        {
          "output_type": "execute_result",
          "data": {
            "text/plain": [
              "['Bed', 'Cabinetry', 'Chair', 'Couch', 'Lamp', 'Table']"
            ]
          },
          "metadata": {
            "tags": []
          },
          "execution_count": 3
        }
      ]
    },
    {
      "cell_type": "code",
      "metadata": {
        "id": "Co3gEakKKgDm"
      },
      "source": [
        "#Setup training, test & validation data paths\n",
        "valid_path = \"/content/drive/MyDrive/Colab Notebooks/airbnb-amenity-detection/training_data/all-final-validation-20201208-100perClass-442\"\n",
        "train_path = \"/content/drive/MyDrive/Colab Notebooks/airbnb-amenity-detection/training_data/all-final-train-20201208-1500perClass-8765\"\n",
        "test_path = \"/content/drive/MyDrive/Colab Notebooks/airbnb-amenity-detection/training_data/all-final-test-20201208-300perClass-1254\"\n",
        "\n",
        "valid_annotation_file = \"/content/drive/MyDrive/Colab Notebooks/airbnb-amenity-detection/validation-annotations-bbox.csv\"\n",
        "train_annotation_file = \"/content/drive/MyDrive/Colab Notebooks/airbnb-amenity-detection/train-annotations-bbox.csv\"\n",
        "test_annotation_file = \"/content/drive/MyDrive/Colab Notebooks/airbnb-amenity-detection/test-annotations-bbox.csv\""
      ],
      "execution_count": null,
      "outputs": []
    },
    {
      "cell_type": "code",
      "metadata": {
        "id": "kfeBy_cnKhlk"
      },
      "source": [
        "def get_image_ids(image_folder=None):\n",
        "    \"\"\"\n",
        "    Explores a folder of images and gets their ID from their file name.\n",
        "    Returns a list of all image ID's in image_folder.\n",
        "    E.g. image_folder/608fda8c976e0ac.jpg -> [\"608fda8c976e0ac\"]\n",
        "    \n",
        "    Params\n",
        "    ------\n",
        "    image_folder (str): path to folder of images, e.g. \"../validation/\"\n",
        "    \"\"\"\n",
        "    return [os.path.splitext(img_name)[0] for img_name in os.listdir(image_folder) if img_name.endswith(\".jpg\")]"
      ],
      "execution_count": null,
      "outputs": []
    },
    {
      "cell_type": "code",
      "metadata": {
        "id": "6JEPGUCjKi8R"
      },
      "source": [
        "# Make a function which formats a specific annotations csv based on what we're dealing with (relative to absolute pixel values)\n",
        "def format_annotations(image_folder, annotation_file, target_classes=None):\n",
        "    \"\"\"\n",
        "    TODO - NOTE: This function could (definitely can) be faster.\n",
        "    TODO - Some ideas: skip the use of pandas entirely and use CSV's\n",
        "    \n",
        "    Formats annotation_file based on images contained in image_folder.\n",
        "    Will get all unique image IDs and make sure annotation_file\n",
        "    only contains those (the target images).\n",
        "    Adds meta-data to annotation_file such as class names and categories.\n",
        "    If target_classes isn't None, the returned annotations will be filtered by this list.\n",
        "    Note: image_folder and annotation_file should both be validation if working on\n",
        "    validation set or both be training if working on training set.\n",
        "    \n",
        "    Params\n",
        "    ------\n",
        "    image_folder (str): path to folder of target images.\n",
        "    annotation_file (str): path to annotation file of target images.\n",
        "    target_classes (list), optional: a list of target classes you'd like to filter labels.\n",
        "    \"\"\"\n",
        "    # Get all image ids from target directory\n",
        "    image_ids = get_image_ids(image_folder)\n",
        "    \n",
        "    # Setup annotation file and classnames\n",
        "    # TODO - improve this, is pandas required? \n",
        "    annot_file = pd.read_csv(annotation_file)\n",
        "    classes = pd.read_csv(\"/content/drive/MyDrive/Colab Notebooks/airbnb-amenity-detection/class-descriptions-boxable.csv\",\n",
        "                          names=[\"LabelName\", \"ClassName\"])\n",
        "    \n",
        "    # Create classname column on annotations which converts label codes to string labels\n",
        "    annot_file[\"ClassName\"] = annot_file[\"LabelName\"].map(classes.set_index(\"LabelName\")[\"ClassName\"])\n",
        "\n",
        "    # Sort annot_file by \"ClassName\" for alphabetical labels (used with target_classes)\n",
        "    annot_file.sort_values(by=[\"ClassName\"], inplace=True)\n",
        "    \n",
        "    # TODO - fix this, Make sure we only get the images we're concerned about\n",
        "    if target_classes:\n",
        "        annot_file = annot_file[annot_file[\"ImageID\"].isin(image_ids) & annot_file[\"ClassName\"].isin(target_classes)]\n",
        "    else:\n",
        "        annot_file = annot_file[annot_file[\"ImageID\"].isin(image_ids)]\n",
        "   \n",
        "    # Add ClassID column, e.g. \"Bathtub, Toilet\" -> 1, 2\n",
        "    annot_file[\"ClassName\"] = pd.Categorical(annot_file[\"ClassName\"])\n",
        "    annot_file[\"ClassID\"] = annot_file[\"ClassName\"].cat.codes\n",
        "    \n",
        "    return annot_file"
      ],
      "execution_count": null,
      "outputs": []
    },
    {
      "cell_type": "code",
      "metadata": {
        "id": "Qcxa5oV3KkGQ"
      },
      "source": [
        "def rel_to_absolute(bbox, height, width):\n",
        "    \"\"\"\n",
        "    Converts bounding box dimensions from relative to absolute pixel values (Detectron2 style).\n",
        "    See: https://detectron2.readthedocs.io/modules/structures.html#detectron2.structures.BoxMode\n",
        "    \n",
        "    Params\n",
        "    ------\n",
        "    bbox (array): relative dimensions of bounding box in format (x0, y0, x1, y1 or Xmin, Ymin, Xmax, Ymax)\n",
        "    height (int): height of image\n",
        "    width (int): width of image\n",
        "    \"\"\"\n",
        "    bbox[0] = np.round(np.multiply(bbox[0], width)) # x0\n",
        "    bbox[1] = np.round(np.multiply(bbox[1], height)) # y0\n",
        "    bbox[2] = np.round(np.multiply(bbox[2], width)) # x1\n",
        "    bbox[3] = np.round(np.multiply(bbox[3], height)) # y1\n",
        "    return [i.astype(\"object\") for i in bbox] # convert all to objects for JSON saving"
      ],
      "execution_count": null,
      "outputs": []
    },
    {
      "cell_type": "code",
      "metadata": {
        "id": "lTJEMpiaKlTw"
      },
      "source": [
        "# Import CV2 for getting height & width of image\n",
        "import cv2\n",
        "\n",
        "# Import Detectron2 BoxMode for bounding boxes style\n",
        "from detectron2.structures import BoxMode"
      ],
      "execution_count": null,
      "outputs": []
    },
    {
      "cell_type": "code",
      "metadata": {
        "id": "OOGsec3eKmqO"
      },
      "source": [
        "import numpy as np\n",
        "from detectron2.structures import BoxMode\n",
        "import json\n",
        "import os\n",
        "from tqdm import tqdm\n",
        "\n",
        "def get_image_dicts(image_folder, annotation_file, target_classes=None):\n",
        "    \"\"\"\n",
        "    Create JSON of dectectron2 style labels to be reused later.\n",
        "    \n",
        "    TODO -- Maybe create some verbosity here? AKA, what are the outputs?\n",
        "    TODO -- what if annotations = None? Can we create a call to create an annotations CSV in 1 hit?\n",
        "    \n",
        "    Params\n",
        "    ------\n",
        "    image_folder (str): target folder containing images\n",
        "    annotations (DataFrame): DataFrame of image label data\n",
        "    \"\"\"\n",
        "    # dataset_name = \"validation\" if \"valid\" in image_folder else \"train\"\n",
        "\n",
        "    if \"valid\" in image_folder:\n",
        "      dataset_name = \"validation\"\n",
        "    elif \"train\" in image_folder:\n",
        "      dataset_name = \"train\"\n",
        "    elif \"test\" in image_folder:\n",
        "      dataset_name = \"test\"\n",
        "\n",
        "    print(f\"Using {annotation_file} for annotations...\")\n",
        "    # TODO: there should be some kind of asssertions here making sure the image folder and annotation files match\n",
        "    # E.g. train w/ train and valid w/ valid\n",
        "    annotations = format_annotations(image_folder=image_folder, \n",
        "                                     annotation_file=annotation_file,\n",
        "                                     target_classes=target_classes)\n",
        "\n",
        "    print(f\"On dataset: {dataset_name}\")\n",
        "    print(\"Classes we're using:\\n {}\".format(annotations[\"ClassName\"].value_counts()))\n",
        "\n",
        "    # Get all unique image ids from target folder\n",
        "    img_ids = get_image_ids(image_folder)\n",
        "    print(f\"Total number of images: {len(img_ids)}\")\n",
        "\n",
        "    # TODO: move img_data creation out of for loop and only work with subset of img_ids?\n",
        "    #img_data = annotations[annotations[\"ImageID\"] == img].reset_index() # reset index important for images with multiple objects\n",
        "    #change to something like \"img_data = annotations is in img_ids...\"\n",
        "    \n",
        "    # Start creating image dictionaries (Detectron2 style labelling)\n",
        "    img_dicts = []\n",
        "    for idx, img in tqdm(enumerate(img_ids)):\n",
        "        record = {}\n",
        "        \n",
        "        # Get image metadata\n",
        "        file_name = image_folder + \"/\" + img + \".jpg\"\n",
        "        height, width = cv2.imread(file_name).shape[:2]\n",
        "        img_data = annotations[annotations[\"ImageID\"] == img].reset_index() # reset index important for images\n",
        "                                                                            # with multiple objects\n",
        "        # Verbosity for image label troubleshooting\n",
        "        # print(f\"On image: {img}\")\n",
        "        # print(f\"Image category: {img_data.ClassID.values}\")\n",
        "        # print(f\"Image label: {img_data.ClassName.values}\")\n",
        "\n",
        "        # Update record dictionary\n",
        "        record[\"file_name\"] = file_name\n",
        "        record[\"image_id\"] = idx\n",
        "        record[\"height\"] = height\n",
        "        record[\"width\"] = width\n",
        "        \n",
        "        # Create list of image annotations (labels)\n",
        "        img_annotations = []\n",
        "        for i in range(len(img_data)): # this is where we loop through examples with multiple objects in an image\n",
        "            category_id = img_data.loc[i][\"ClassID\"].astype(\"object\") # JSON (for evalution) can't take int8 (NumPy type) must be native Python type\n",
        "            # print(f\"Image category 2: {category_id}\")\n",
        "            # Get bounding box coordinates in Detectron2 style (x0, y0, x1, y1)\n",
        "            bbox = np.float32(img_data.loc[i][[\"XMin\", \"YMin\", \"XMax\", \"YMax\"]].values) # needs to be float/int # TODO: change for JSON\n",
        "            # Convert bbox from relative to absolute pixel dimensions\n",
        "            bbox = rel_to_absolute(bbox=bbox, height=height, width=width)\n",
        "            # Setup annot (1 annot = 1 label, there might be more) dictionary\n",
        "            annot = {\n",
        "                \"bbox\": bbox, \n",
        "                \"bbox_mode\": BoxMode.XYXY_ABS, # See: https://detectron2.readthedocs.io/modules/structures.html#detectron2.structures.BoxMode.XYXY_ABS\n",
        "                \"category_id\": category_id\n",
        "            }\n",
        "            img_annotations.append(annot)\n",
        "            \n",
        "        # Update record dictionary with annotations\n",
        "        record[\"annotations\"] = img_annotations\n",
        "        \n",
        "        # Add record dictionary with image annotations to img_dicts list\n",
        "        img_dicts.append(record)\n",
        "\n",
        "    # TODO: Change this into it's own function??\n",
        "    # Save img_dicts to JSON for use later\n",
        "    json_file = os.path.join(image_folder, dataset_name+\"_labels.json\")\n",
        "    print(f\"Saving labels to: {json_file}...\")\n",
        "    with open(json_file, \"w\") as f:\n",
        "      json.dump(img_dicts, f)\n",
        "\n",
        "    # return img labels dictionary\n",
        "    return img_dicts"
      ],
      "execution_count": null,
      "outputs": []
    },
    {
      "cell_type": "code",
      "metadata": {
        "colab": {
          "base_uri": "https://localhost:8080/"
        },
        "id": "fQBV84MFKoAg",
        "outputId": "957db6ea-8ea2-4283-ea01-20a5c979309f"
      },
      "source": [
        "# Generate dictionary to store annotation info of validation set\n",
        "%%time\n",
        "valid_img_dicts = get_image_dicts(valid_path, valid_annotation_file, target_classes=target_classes)"
      ],
      "execution_count": null,
      "outputs": [
        {
          "output_type": "stream",
          "text": [
            "Using /content/drive/MyDrive/Colab Notebooks/airbnb-amenity-detection/validation-annotations-bbox.csv for annotations...\n"
          ],
          "name": "stdout"
        },
        {
          "output_type": "stream",
          "text": [
            "7it [00:00, 59.48it/s]"
          ],
          "name": "stderr"
        },
        {
          "output_type": "stream",
          "text": [
            "On dataset: validation\n",
            "Classes we're using:\n",
            " Table        316\n",
            "Chair        275\n",
            "Cabinetry    150\n",
            "Bed          109\n",
            "Lamp          70\n",
            "Couch         44\n",
            "Name: ClassName, dtype: int64\n",
            "Total number of images: 431\n"
          ],
          "name": "stdout"
        },
        {
          "output_type": "stream",
          "text": [
            "431it [00:09, 47.77it/s]"
          ],
          "name": "stderr"
        },
        {
          "output_type": "stream",
          "text": [
            "Saving labels to: /content/drive/MyDrive/Colab Notebooks/airbnb-amenity-detection/training_data/all-final-validation-20201208-100perClass-442/validation_labels.json...\n",
            "CPU times: user 8.15 s, sys: 263 ms, total: 8.41 s\n",
            "Wall time: 9.52 s\n"
          ],
          "name": "stdout"
        },
        {
          "output_type": "stream",
          "text": [
            "\n"
          ],
          "name": "stderr"
        }
      ]
    },
    {
      "cell_type": "code",
      "metadata": {
        "colab": {
          "base_uri": "https://localhost:8080/"
        },
        "id": "c86qgdF4K3T1",
        "outputId": "e7257e9b-86b8-47b3-e8f0-42d3b5635707"
      },
      "source": [
        "# Generate dictionary to store annotation info of validation set\n",
        "%%time\n",
        "test_img_dicts = get_image_dicts(test_path, test_annotation_file, target_classes=target_classes)"
      ],
      "execution_count": null,
      "outputs": [
        {
          "output_type": "stream",
          "text": [
            "Using /content/drive/MyDrive/Colab Notebooks/airbnb-amenity-detection/test-annotations-bbox.csv for annotations...\n"
          ],
          "name": "stdout"
        },
        {
          "output_type": "stream",
          "text": [
            "6it [00:00, 50.53it/s]"
          ],
          "name": "stderr"
        },
        {
          "output_type": "stream",
          "text": [
            "On dataset: train\n",
            "Classes we're using:\n",
            " Table        891\n",
            "Chair        672\n",
            "Cabinetry    426\n",
            "Bed          324\n",
            "Lamp         116\n",
            "Couch        104\n",
            "Name: ClassName, dtype: int64\n",
            "Total number of images: 1220\n"
          ],
          "name": "stdout"
        },
        {
          "output_type": "stream",
          "text": [
            "1220it [00:26, 46.26it/s]"
          ],
          "name": "stderr"
        },
        {
          "output_type": "stream",
          "text": [
            "Saving labels to: /content/drive/MyDrive/Colab Notebooks/airbnb-amenity-detection/training_data/all-final-test-20201208-300perClass-1254/train_labels.json...\n",
            "CPU times: user 24 s, sys: 733 ms, total: 24.7 s\n",
            "Wall time: 27.9 s\n"
          ],
          "name": "stdout"
        },
        {
          "output_type": "stream",
          "text": [
            "\n"
          ],
          "name": "stderr"
        }
      ]
    },
    {
      "cell_type": "code",
      "metadata": {
        "colab": {
          "base_uri": "https://localhost:8080/"
        },
        "id": "CDcb5d-KNZ77",
        "outputId": "98c5e931-a218-46f4-c540-0e4896412652"
      },
      "source": [
        "# Check if there are duplicated images in annotation dicts (validation: 431 images; test: 1220 images)\n",
        "print(len(valid_img_dicts))\n",
        "print(len(test_img_dicts))"
      ],
      "execution_count": null,
      "outputs": [
        {
          "output_type": "stream",
          "text": [
            "442\n",
            "1254\n"
          ],
          "name": "stdout"
        }
      ]
    },
    {
      "cell_type": "code",
      "metadata": {
        "colab": {
          "base_uri": "https://localhost:8080/"
        },
        "id": "hlpz8BZuNd98",
        "outputId": "7da3a42a-dc05-43b0-88cc-231ecec57e28"
      },
      "source": [
        "# Check classes of images in validation set (ignore images without class assigned)\n",
        "unique_cats_valid = []\n",
        "for idx, dicty in enumerate(valid_img_dicts):\n",
        "  try:\n",
        "    unique_cats_valid.append(dicty[\"annotations\"][0][\"category_id\"])\n",
        "  except:\n",
        "    pass\n",
        "print(f\"Unique categories in valid_img_dicts: {set(unique_cats_valid)}\")\n"
      ],
      "execution_count": null,
      "outputs": [
        {
          "output_type": "stream",
          "text": [
            "Unique categories in valid_img_dicts: {0, 1, 2, 3, 4, 5}\n"
          ],
          "name": "stdout"
        }
      ]
    },
    {
      "cell_type": "code",
      "metadata": {
        "colab": {
          "base_uri": "https://localhost:8080/"
        },
        "id": "WnssAFzvNuv1",
        "outputId": "ae187fde-8f65-4b79-ff2f-2b0a1eb46ac4"
      },
      "source": [
        "# Check and Remove images which are not in annotation csv\n",
        "imgID_problemed_valid = []\n",
        "unique_cats_valid = []\n",
        "for idx, dicty in enumerate(valid_img_dicts):\n",
        "  try:\n",
        "    unique_cats_valid.append(dicty[\"annotations\"][0][\"category_id\"])\n",
        "  except:\n",
        "    imgID_problemed_valid.append(dicty[\"file_name\"])\n",
        "    pass\n",
        "imgID_problemed_valid"
      ],
      "execution_count": null,
      "outputs": [
        {
          "output_type": "execute_result",
          "data": {
            "text/plain": [
              "['/content/drive/MyDrive/Colab Notebooks/airbnb-amenity-detection/training_data/all-final-validation-20201208-100perClass-442/03646bb2f288eaae.jpg',\n",
              " '/content/drive/MyDrive/Colab Notebooks/airbnb-amenity-detection/training_data/all-final-validation-20201208-100perClass-442/0fb3a760f909c8c9.jpg',\n",
              " '/content/drive/MyDrive/Colab Notebooks/airbnb-amenity-detection/training_data/all-final-validation-20201208-100perClass-442/20af1d21449acdce.jpg',\n",
              " '/content/drive/MyDrive/Colab Notebooks/airbnb-amenity-detection/training_data/all-final-validation-20201208-100perClass-442/2110e5d8ca7e5a99.jpg',\n",
              " '/content/drive/MyDrive/Colab Notebooks/airbnb-amenity-detection/training_data/all-final-validation-20201208-100perClass-442/36fb4da1df30f769.jpg',\n",
              " '/content/drive/MyDrive/Colab Notebooks/airbnb-amenity-detection/training_data/all-final-validation-20201208-100perClass-442/5a44d26db9ea0aa8.jpg',\n",
              " '/content/drive/MyDrive/Colab Notebooks/airbnb-amenity-detection/training_data/all-final-validation-20201208-100perClass-442/65a40656a6ba5344.jpg',\n",
              " '/content/drive/MyDrive/Colab Notebooks/airbnb-amenity-detection/training_data/all-final-validation-20201208-100perClass-442/89ae6cceba0c6dc7.jpg',\n",
              " '/content/drive/MyDrive/Colab Notebooks/airbnb-amenity-detection/training_data/all-final-validation-20201208-100perClass-442/9295ab265fafd8e5.jpg',\n",
              " '/content/drive/MyDrive/Colab Notebooks/airbnb-amenity-detection/training_data/all-final-validation-20201208-100perClass-442/c8dd79406a936789.jpg',\n",
              " '/content/drive/MyDrive/Colab Notebooks/airbnb-amenity-detection/training_data/all-final-validation-20201208-100perClass-442/ddd8b588942ceded.jpg']"
            ]
          },
          "metadata": {
            "tags": []
          },
          "execution_count": 21
        }
      ]
    },
    {
      "cell_type": "code",
      "metadata": {
        "colab": {
          "base_uri": "https://localhost:8080/"
        },
        "id": "UQSQDsG1NatZ",
        "outputId": "202095cc-38bb-413e-f906-d34fff99d785"
      },
      "source": [
        "# Success: 6 target classes available\n",
        "unique_cats_valid = []\n",
        "for dicty in valid_img_dicts:\n",
        "  unique_cats_valid.append(dicty[\"annotations\"][0][\"category_id\"])\n",
        "print(f\"Unique categories in valid_img_dicts: {set(unique_cats_valid)}\")\n"
      ],
      "execution_count": null,
      "outputs": [
        {
          "output_type": "stream",
          "text": [
            "Unique categories in valid_img_dicts: {0, 1, 2, 3, 4, 5}\n"
          ],
          "name": "stdout"
        }
      ]
    },
    {
      "cell_type": "code",
      "metadata": {
        "colab": {
          "base_uri": "https://localhost:8080/"
        },
        "id": "qPxxi1OnNwiD",
        "outputId": "8cc5e65e-d985-48ff-c784-e63dc1adc7cf"
      },
      "source": [
        "# Check classes of images in test set (ignore images without class assigned)\n",
        "unique_cats_test = []\n",
        "for idx, dicty in enumerate(test_img_dicts):\n",
        "  try:\n",
        "    unique_cats_test.append(dicty[\"annotations\"][0][\"category_id\"])\n",
        "  except:\n",
        "    pass\n",
        "print(f\"Unique categories in test_img_dicts: {set(unique_cats_test)}\")\n"
      ],
      "execution_count": null,
      "outputs": [
        {
          "output_type": "stream",
          "text": [
            "Unique categories in test_img_dicts: {0, 1, 2, 3, 4, 5}\n"
          ],
          "name": "stdout"
        }
      ]
    },
    {
      "cell_type": "code",
      "metadata": {
        "colab": {
          "base_uri": "https://localhost:8080/"
        },
        "id": "461Dm1jFOYzP",
        "outputId": "01bee93c-78ea-4806-9d98-27db26ec295a"
      },
      "source": [
        "# Check and Remove images which are not in annotation csv\n",
        "imgID_problemed_test = []\n",
        "unique_cats_test = []\n",
        "for idx, dicty in enumerate(test_img_dicts):\n",
        "  try:\n",
        "    unique_cats_test.append(dicty[\"annotations\"][0][\"category_id\"])\n",
        "  except:\n",
        "    imgID_problemed_test.append(dicty[\"file_name\"])\n",
        "    pass\n",
        "imgID_problemed_test"
      ],
      "execution_count": null,
      "outputs": [
        {
          "output_type": "execute_result",
          "data": {
            "text/plain": [
              "['/content/drive/MyDrive/Colab Notebooks/airbnb-amenity-detection/training_data/all-final-test-20201208-300perClass-1254/2aa83f4d9dbfdc54.jpg',\n",
              " '/content/drive/MyDrive/Colab Notebooks/airbnb-amenity-detection/training_data/all-final-test-20201208-300perClass-1254/360d48f9e44b9609.jpg',\n",
              " '/content/drive/MyDrive/Colab Notebooks/airbnb-amenity-detection/training_data/all-final-test-20201208-300perClass-1254/58660f6531f19087.jpg',\n",
              " '/content/drive/MyDrive/Colab Notebooks/airbnb-amenity-detection/training_data/all-final-test-20201208-300perClass-1254/58bc111b3ba43cd9.jpg',\n",
              " '/content/drive/MyDrive/Colab Notebooks/airbnb-amenity-detection/training_data/all-final-test-20201208-300perClass-1254/5b5137015349bbc2.jpg',\n",
              " '/content/drive/MyDrive/Colab Notebooks/airbnb-amenity-detection/training_data/all-final-test-20201208-300perClass-1254/5fcede006318c905.jpg',\n",
              " '/content/drive/MyDrive/Colab Notebooks/airbnb-amenity-detection/training_data/all-final-test-20201208-300perClass-1254/6c34953ed63c6d61.jpg',\n",
              " '/content/drive/MyDrive/Colab Notebooks/airbnb-amenity-detection/training_data/all-final-test-20201208-300perClass-1254/7c2c2c16400bb760.jpg',\n",
              " '/content/drive/MyDrive/Colab Notebooks/airbnb-amenity-detection/training_data/all-final-test-20201208-300perClass-1254/84bb8133b786bb9f.jpg',\n",
              " '/content/drive/MyDrive/Colab Notebooks/airbnb-amenity-detection/training_data/all-final-test-20201208-300perClass-1254/9b1685e635755080.jpg',\n",
              " '/content/drive/MyDrive/Colab Notebooks/airbnb-amenity-detection/training_data/all-final-test-20201208-300perClass-1254/9fd65861b5e8c152.jpg',\n",
              " '/content/drive/MyDrive/Colab Notebooks/airbnb-amenity-detection/training_data/all-final-test-20201208-300perClass-1254/a1f38be2905908b0.jpg',\n",
              " '/content/drive/MyDrive/Colab Notebooks/airbnb-amenity-detection/training_data/all-final-test-20201208-300perClass-1254/a25a74a471183cee.jpg',\n",
              " '/content/drive/MyDrive/Colab Notebooks/airbnb-amenity-detection/training_data/all-final-test-20201208-300perClass-1254/a83d931e28c72cbe.jpg',\n",
              " '/content/drive/MyDrive/Colab Notebooks/airbnb-amenity-detection/training_data/all-final-test-20201208-300perClass-1254/a98b048bbe1adcf4.jpg',\n",
              " '/content/drive/MyDrive/Colab Notebooks/airbnb-amenity-detection/training_data/all-final-test-20201208-300perClass-1254/b62312d071222803.jpg',\n",
              " '/content/drive/MyDrive/Colab Notebooks/airbnb-amenity-detection/training_data/all-final-test-20201208-300perClass-1254/baf5be6c347dbf73.jpg',\n",
              " '/content/drive/MyDrive/Colab Notebooks/airbnb-amenity-detection/training_data/all-final-test-20201208-300perClass-1254/c2a74bbbbe9d4bd5.jpg',\n",
              " '/content/drive/MyDrive/Colab Notebooks/airbnb-amenity-detection/training_data/all-final-test-20201208-300perClass-1254/c464c40628fbb51b.jpg',\n",
              " '/content/drive/MyDrive/Colab Notebooks/airbnb-amenity-detection/training_data/all-final-test-20201208-300perClass-1254/c9e0fe549e905887.jpg',\n",
              " '/content/drive/MyDrive/Colab Notebooks/airbnb-amenity-detection/training_data/all-final-test-20201208-300perClass-1254/e0c3ebfc6b4c0f90.jpg',\n",
              " '/content/drive/MyDrive/Colab Notebooks/airbnb-amenity-detection/training_data/all-final-test-20201208-300perClass-1254/e3441644efd7ce4a.jpg',\n",
              " '/content/drive/MyDrive/Colab Notebooks/airbnb-amenity-detection/training_data/all-final-test-20201208-300perClass-1254/ef549ca25ce16868.jpg',\n",
              " '/content/drive/MyDrive/Colab Notebooks/airbnb-amenity-detection/training_data/all-final-test-20201208-300perClass-1254/f20933144f9ac79a.jpg',\n",
              " '/content/drive/MyDrive/Colab Notebooks/airbnb-amenity-detection/training_data/all-final-test-20201208-300perClass-1254/f58a7f398aa97afe.jpg',\n",
              " '/content/drive/MyDrive/Colab Notebooks/airbnb-amenity-detection/training_data/all-final-test-20201208-300perClass-1254/f76d43b10ad889aa.jpg',\n",
              " '/content/drive/MyDrive/Colab Notebooks/airbnb-amenity-detection/training_data/all-final-test-20201208-300perClass-1254/02c6ced79b2a3ae0.jpg',\n",
              " '/content/drive/MyDrive/Colab Notebooks/airbnb-amenity-detection/training_data/all-final-test-20201208-300perClass-1254/037ddd4f255512b5.jpg',\n",
              " '/content/drive/MyDrive/Colab Notebooks/airbnb-amenity-detection/training_data/all-final-test-20201208-300perClass-1254/10405e4d23c6a1d4.jpg',\n",
              " '/content/drive/MyDrive/Colab Notebooks/airbnb-amenity-detection/training_data/all-final-test-20201208-300perClass-1254/15f6b3b05bbef76a.jpg',\n",
              " '/content/drive/MyDrive/Colab Notebooks/airbnb-amenity-detection/training_data/all-final-test-20201208-300perClass-1254/1e73ef79445975d9.jpg',\n",
              " '/content/drive/MyDrive/Colab Notebooks/airbnb-amenity-detection/training_data/all-final-test-20201208-300perClass-1254/21763754dffb6ccc.jpg',\n",
              " '/content/drive/MyDrive/Colab Notebooks/airbnb-amenity-detection/training_data/all-final-test-20201208-300perClass-1254/22323e18fde62452.jpg',\n",
              " '/content/drive/MyDrive/Colab Notebooks/airbnb-amenity-detection/training_data/all-final-test-20201208-300perClass-1254/2456a728d9d792f4.jpg']"
            ]
          },
          "metadata": {
            "tags": []
          },
          "execution_count": 23
        }
      ]
    },
    {
      "cell_type": "code",
      "metadata": {
        "colab": {
          "base_uri": "https://localhost:8080/"
        },
        "id": "MpiDmXtKPsc1",
        "outputId": "453b0cbc-e023-44c1-94e8-3feb58663ecd"
      },
      "source": [
        "# Success: 6 target classes available\n",
        "unique_cats_test = []\n",
        "for dicty in test_img_dicts:\n",
        "  unique_cats_test.append(dicty[\"annotations\"][0][\"category_id\"])\n",
        "print(f\"Unique categories in test_img_dicts: {set(unique_cats_test)}\")\n"
      ],
      "execution_count": null,
      "outputs": [
        {
          "output_type": "stream",
          "text": [
            "Unique categories in test_img_dicts: {0, 1, 2, 3, 4, 5}\n"
          ],
          "name": "stdout"
        }
      ]
    },
    {
      "cell_type": "code",
      "metadata": {
        "colab": {
          "base_uri": "https://localhost:8080/"
        },
        "id": "3tg7aCvxQPmA",
        "outputId": "86ce526c-c242-4c9e-c622-85387981a27b"
      },
      "source": [
        "# Check again if there are duplicated images in annotation dicts (validation: 431 images; test: 1220 images)\n",
        "print(len(valid_img_dicts))\n",
        "print(len(test_img_dicts))"
      ],
      "execution_count": null,
      "outputs": [
        {
          "output_type": "stream",
          "text": [
            "431\n",
            "1220\n"
          ],
          "name": "stdout"
        }
      ]
    },
    {
      "cell_type": "code",
      "metadata": {
        "colab": {
          "base_uri": "https://localhost:8080/"
        },
        "id": "FMTSXHJtWtzi",
        "outputId": "ab11c41b-3431-4493-ee11-d2eef080fad6"
      },
      "source": [
        "# Generate dictionary to store annotation info of training set\n",
        "%%time\n",
        "train_img_dicts = get_image_dicts(train_path, train_annotation_file, target_classes=target_classes)"
      ],
      "execution_count": null,
      "outputs": [
        {
          "output_type": "stream",
          "text": [
            "Using /content/drive/MyDrive/Colab Notebooks/airbnb-amenity-detection/train-annotations-bbox.csv for annotations...\n",
            "On dataset: train\n",
            "Classes we're using:\n",
            " Chair        12189\n",
            "Table         5905\n",
            "Cabinetry     4664\n",
            "Lamp          3527\n",
            "Couch         2024\n",
            "Bed           1902\n",
            "Name: ClassName, dtype: int64\n"
          ],
          "name": "stdout"
        },
        {
          "output_type": "stream",
          "text": [
            "\r0it [00:00, ?it/s]"
          ],
          "name": "stderr"
        },
        {
          "output_type": "stream",
          "text": [
            "Total number of images: 8765\n"
          ],
          "name": "stdout"
        },
        {
          "output_type": "stream",
          "text": [
            "8765it [47:36,  3.07it/s]\n"
          ],
          "name": "stderr"
        },
        {
          "output_type": "stream",
          "text": [
            "Saving labels to: /content/drive/MyDrive/Colab Notebooks/airbnb-amenity-detection/training_data/all-final-train-20201208-1500perClass-8765/train_labels.json...\n",
            "CPU times: user 4min 15s, sys: 13.8 s, total: 4min 28s\n",
            "Wall time: 48min 22s\n"
          ],
          "name": "stdout"
        }
      ]
    },
    {
      "cell_type": "code",
      "metadata": {
        "colab": {
          "base_uri": "https://localhost:8080/",
          "height": 222
        },
        "id": "PZC_tvu5kVSL",
        "outputId": "59497c1c-ab63-45f2-8285-c5a7dbe2818f"
      },
      "source": [
        "# Check classes of images in training set\n",
        "unique_cats_train = []\n",
        "for dicty in train_img_dicts:\n",
        "  unique_cats_train.append(dicty[\"annotations\"][0][\"category_id\"])\n",
        "print(f\"Unique categories in train_img_dicts: {set(unique_cats_train)}\")"
      ],
      "execution_count": null,
      "outputs": [
        {
          "output_type": "error",
          "ename": "IndexError",
          "evalue": "ignored",
          "traceback": [
            "\u001b[0;31m---------------------------------------------------------------------------\u001b[0m",
            "\u001b[0;31mIndexError\u001b[0m                                Traceback (most recent call last)",
            "\u001b[0;32m<ipython-input-36-10545acc2d04>\u001b[0m in \u001b[0;36m<module>\u001b[0;34m()\u001b[0m\n\u001b[1;32m      1\u001b[0m \u001b[0munique_cats_train\u001b[0m \u001b[0;34m=\u001b[0m \u001b[0;34m[\u001b[0m\u001b[0;34m]\u001b[0m\u001b[0;34m\u001b[0m\u001b[0;34m\u001b[0m\u001b[0m\n\u001b[1;32m      2\u001b[0m \u001b[0;32mfor\u001b[0m \u001b[0mdicty\u001b[0m \u001b[0;32min\u001b[0m \u001b[0mtrain_img_dicts\u001b[0m\u001b[0;34m:\u001b[0m\u001b[0;34m\u001b[0m\u001b[0;34m\u001b[0m\u001b[0m\n\u001b[0;32m----> 3\u001b[0;31m   \u001b[0munique_cats_train\u001b[0m\u001b[0;34m.\u001b[0m\u001b[0mappend\u001b[0m\u001b[0;34m(\u001b[0m\u001b[0mdicty\u001b[0m\u001b[0;34m[\u001b[0m\u001b[0;34m\"annotations\"\u001b[0m\u001b[0;34m]\u001b[0m\u001b[0;34m[\u001b[0m\u001b[0;36m0\u001b[0m\u001b[0;34m]\u001b[0m\u001b[0;34m[\u001b[0m\u001b[0;34m\"category_id\"\u001b[0m\u001b[0;34m]\u001b[0m\u001b[0;34m)\u001b[0m\u001b[0;34m\u001b[0m\u001b[0;34m\u001b[0m\u001b[0m\n\u001b[0m\u001b[1;32m      4\u001b[0m \u001b[0mprint\u001b[0m\u001b[0;34m(\u001b[0m\u001b[0;34mf\"Unique categories in train_img_dicts: {set(unique_cats_train)}\"\u001b[0m\u001b[0;34m)\u001b[0m\u001b[0;34m\u001b[0m\u001b[0;34m\u001b[0m\u001b[0m\n",
            "\u001b[0;31mIndexError\u001b[0m: list index out of range"
          ]
        }
      ]
    },
    {
      "cell_type": "code",
      "metadata": {
        "colab": {
          "base_uri": "https://localhost:8080/"
        },
        "id": "vrLNSzW5ZBQT",
        "outputId": "795dce94-9cfb-4588-9082-b344b869878d"
      },
      "source": [
        "# Check classes of images in training set (ignore images without class assigned)\n",
        "unique_cats_train = []\n",
        "for idx, dicty in enumerate(train_img_dicts):\n",
        "  try:\n",
        "    unique_cats_train.append(dicty[\"annotations\"][0][\"category_id\"])\n",
        "  except:\n",
        "    pass\n",
        "print(f\"Unique categories in train_img_dicts: {set(unique_cats_train)}\")\n"
      ],
      "execution_count": null,
      "outputs": [
        {
          "output_type": "stream",
          "text": [
            "Unique categories in train_img_dicts: {0, 1, 2, 3, 4, 5}\n"
          ],
          "name": "stdout"
        }
      ]
    },
    {
      "cell_type": "code",
      "metadata": {
        "colab": {
          "base_uri": "https://localhost:8080/"
        },
        "id": "jKws1-wqkGs2",
        "outputId": "961a4756-d945-4957-c7fc-7494c0f672cb"
      },
      "source": [
        "len(train_img_dicts)"
      ],
      "execution_count": null,
      "outputs": [
        {
          "output_type": "execute_result",
          "data": {
            "text/plain": [
              "8765"
            ]
          },
          "metadata": {
            "tags": []
          },
          "execution_count": 35
        }
      ]
    },
    {
      "cell_type": "code",
      "metadata": {
        "colab": {
          "base_uri": "https://localhost:8080/"
        },
        "id": "aKrjMpuCkQjY",
        "outputId": "a8482d92-9731-4db0-ed8c-a44d0a245623"
      },
      "source": [
        "# Check and Remove images which are not in annotation csv (duplicated and filenames added with (1))\n",
        "imgID_problemed_train = []\n",
        "unique_cats_train = []\n",
        "for idx, dicty in enumerate(train_img_dicts):\n",
        "  try:\n",
        "    unique_cats_train.append(dicty[\"annotations\"][0][\"category_id\"])\n",
        "  except:\n",
        "    imgID_problemed_train.append(dicty[\"file_name\"])\n",
        "    pass\n",
        "imgID_problemed_train"
      ],
      "execution_count": null,
      "outputs": [
        {
          "output_type": "execute_result",
          "data": {
            "text/plain": [
              "['/content/drive/MyDrive/Colab Notebooks/airbnb-amenity-detection/training_data/all-final-train-20201208-1500perClass-8765/f7639ed2a25d18b4 (1).jpg',\n",
              " '/content/drive/MyDrive/Colab Notebooks/airbnb-amenity-detection/training_data/all-final-train-20201208-1500perClass-8765/e95eb37f50a0a308 (1).jpg',\n",
              " '/content/drive/MyDrive/Colab Notebooks/airbnb-amenity-detection/training_data/all-final-train-20201208-1500perClass-8765/6a888569fdce9b16 (1).jpg',\n",
              " '/content/drive/MyDrive/Colab Notebooks/airbnb-amenity-detection/training_data/all-final-train-20201208-1500perClass-8765/6cf9c2060724f007 (1).jpg']"
            ]
          },
          "metadata": {
            "tags": []
          },
          "execution_count": 39
        }
      ]
    },
    {
      "cell_type": "code",
      "metadata": {
        "colab": {
          "base_uri": "https://localhost:8080/"
        },
        "id": "H_nWmQrlscA0",
        "outputId": "a59c1fad-7f1d-4799-f22a-4ee58f065bcb"
      },
      "source": [
        "# Check number of images in 3 sets after removal of problematic images\n",
        "print(len(train_img_dicts))\n",
        "print(len(valid_img_dicts))\n",
        "print(len(test_img_dicts))"
      ],
      "execution_count": null,
      "outputs": [
        {
          "output_type": "stream",
          "text": [
            "8761\n",
            "431\n",
            "1220\n"
          ],
          "name": "stdout"
        }
      ]
    },
    {
      "cell_type": "code",
      "metadata": {
        "id": "KTrOaTamkg2o"
      },
      "source": [
        "def load_json_labels(image_folder):\n",
        "    \"\"\"\n",
        "    Returns Detectron2 style labels of images in image_folder based on JSON label file in image_folder.\n",
        "    \n",
        "    TODO -- Maybe create some verbosity here? AKA, what are the outputs?\n",
        "    TODO -- what if annotations = None? Can we create a call to create an annotations CSV in 1 hit?\n",
        "    \n",
        "    Params\n",
        "    ------\n",
        "    image_folder (str): target folder containing images\n",
        "    \"\"\"\n",
        "    # Get absolute path of JSON label file\n",
        "    for file in os.listdir(image_folder):\n",
        "      if file.endswith(\".json\"):\n",
        "        json_file = os.path.join(image_folder, file)\n",
        "\n",
        "    # TODO: Fix this assertion\n",
        "    assert json_file, \"No .json label file found, please make one with annots_to_json()\"\n",
        "\n",
        "    with open(json_file, \"r\") as f:\n",
        "      img_dicts = json.load(f)\n",
        "\n",
        "    # Convert bbox_mode to Enum of BoxMode.XYXY_ABS (doesn't work loading normal from JSON)\n",
        "    for img_dict in img_dicts:\n",
        "      for annot in img_dict[\"annotations\"]:\n",
        "        annot[\"bbox_mode\"] = BoxMode.XYXY_ABS\n",
        "\n",
        "    return img_dicts"
      ],
      "execution_count": null,
      "outputs": []
    },
    {
      "cell_type": "code",
      "metadata": {
        "colab": {
          "base_uri": "https://localhost:8080/"
        },
        "id": "S6m659O3nMfF",
        "outputId": "56fc0c03-8ed1-4d91-d5b5-8f97c18c3a0c"
      },
      "source": [
        "# Create json files to store annotation info (which is required to run Detectron2 model)\n",
        "%%time\n",
        "train_img_dicts = load_json_labels(train_path)\n",
        "valid_img_dicts = load_json_labels(valid_path)\n",
        "test_img_dicts = load_json_labels(test_path)"
      ],
      "execution_count": null,
      "outputs": [
        {
          "output_type": "stream",
          "text": [
            "CPU times: user 162 ms, sys: 9 ms, total: 171 ms\n",
            "Wall time: 305 ms\n"
          ],
          "name": "stdout"
        }
      ]
    }
  ]
}